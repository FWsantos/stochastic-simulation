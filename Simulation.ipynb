{
 "cells": [
  {
   "cell_type": "markdown",
   "metadata": {},
   "source": [
    "# Poisson"
   ]
  },
  {
   "cell_type": "code",
   "execution_count": 1,
   "metadata": {},
   "outputs": [],
   "source": [
    "def lcg(modulo, a, c, semente=None):\n",
    "\tif semente != None:\n",
    "\t\tlcg.anterior = semente\n",
    "\tnum_aleatorio = (lcg.anterior * a + c) % modulo\n",
    "\tlcg.anterior = num_aleatorio\n",
    "\treturn num_aleatorio/modulo\n",
    "lcg.anterior = 2222\n"
   ]
  },
  {
   "cell_type": "code",
   "execution_count": 3,
   "metadata": {},
   "outputs": [],
   "source": [
    "from collections import Counter\n",
    "import math\n",
    "math.e\n",
    "\n",
    "modulo = 2**31\n",
    "a = 1103515245\n",
    "c = 12345\n",
    "\n",
    "# Aceitação/rejeição\n",
    "def Poisson(n=0, P=1, lamb=10): \n",
    "\twhile True:\n",
    "\t\tR = lcg(modulo, a, c)\n",
    "\t\tP = P*R\n",
    "\t\t# print(P, \"<\", math.e**(-lamb))\n",
    "\t\tif P < math.e**(-lamb):\n",
    "\t\t\treturn n\n",
    "\t\tn = n+1\n",
    "\treturn -1"
   ]
  },
  {
   "cell_type": "code",
   "execution_count": 5,
   "metadata": {},
   "outputs": [],
   "source": [
    "def generateInPlot(n_sample, sample_size):\n",
    "\tfor sample_i in range(n_sample):\n",
    "\t\tresult = []\n",
    "\t\tfor i in range(1, sample_size):\n",
    "\t\t\tresult.append(Poisson())\n",
    "\n",
    "\t\t# counter occurrences\n",
    "\t\tresultCount = Counter(sorted(result))\n",
    "\t\t# print(resultCount)\n",
    "\t\tx = []\n",
    "\t\ty = []\n",
    "\t\tfor i in resultCount:\n",
    "\t\t\tx.append(i)\n",
    "\t\t\ty.append(resultCount[i])\n",
    "\t\t\t# print(i, \"->\", resultCount[i])\n",
    "\n",
    "\t\t# plot chart\n",
    "# \t\timport matplotlib.pyplot as plt\n",
    "# \t\tplt.plot(x, y, marker='o')\n",
    "# \t\tplt.title('sample')\n",
    "# \t\tplt.xlabel('Values x')\n",
    "# \t\tplt.ylabel('Occurrences')\n",
    "# \t\tplt.show()\n",
    "\n",
    "generateInPlot(10, 1000)\n",
    "generateInPlot(10, 10000)\n",
    "generateInPlot(10, 100000)"
   ]
  },
  {
   "cell_type": "code",
   "execution_count": null,
   "metadata": {},
   "outputs": [],
   "source": []
  }
 ],
 "metadata": {
  "kernelspec": {
   "display_name": "Python 3",
   "language": "python",
   "name": "python3"
  },
  "language_info": {
   "codemirror_mode": {
    "name": "ipython",
    "version": 3
   },
   "file_extension": ".py",
   "mimetype": "text/x-python",
   "name": "python",
   "nbconvert_exporter": "python",
   "pygments_lexer": "ipython3",
   "version": "3.6.11"
  }
 },
 "nbformat": 4,
 "nbformat_minor": 4
}
