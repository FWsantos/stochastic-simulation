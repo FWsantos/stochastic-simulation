{
 "cells": [
  {
   "cell_type": "markdown",
   "metadata": {},
   "source": [
    "# Simulação estocastica"
   ]
  },
  {
   "source": [
    "## Imports/Libs"
   ],
   "cell_type": "markdown",
   "metadata": {}
  },
  {
   "cell_type": "code",
   "execution_count": 8,
   "metadata": {},
   "outputs": [],
   "source": [
    "from collections import Counter\n",
    "import math\n",
    "import numpy"
   ]
  },
  {
   "source": [
    "## Uniform Generator(0,1)"
   ],
   "cell_type": "markdown",
   "metadata": {}
  },
  {
   "cell_type": "code",
   "execution_count": 88,
   "metadata": {},
   "outputs": [],
   "source": [
    "class Uniform01:\n",
    "\n",
    "    anterior = 2222\n",
    "    \n",
    "    def MCL(self, modulo=2**31, a=1103515245, c=12345, semente=None):\n",
    "        if semente != None:\n",
    "            self.anterior = semente\n",
    "        num_aleatorio = (self.anterior * a + c) % modulo\n",
    "        self.anterior = num_aleatorio\n",
    "        return num_aleatorio/modulo"
   ]
  },
  {
   "source": [
    "# Discrete Distribuitions"
   ],
   "cell_type": "markdown",
   "metadata": {}
  },
  {
   "cell_type": "markdown",
   "metadata": {},
   "source": [
    "## Poisson distribution"
   ]
  },
  {
   "cell_type": "code",
   "execution_count": 89,
   "metadata": {},
   "outputs": [],
   "source": [
    "class Poisson:\n",
    "\t\n",
    "\tdef __init__(self, P=1, lamb=10):\n",
    "\t\tself.P = P\n",
    "\t\tself.lamb = lamb\n",
    "\n",
    "\t# Random Variable\n",
    "\tdef random(self, n=0): \n",
    "\t\tu01 = Uniform01()\n",
    "\n",
    "\t\twhile True:\n",
    "\t\t\tR = u01.MCL()\n",
    "\t\t\tself.P = self.P*R\n",
    "\t\t\tif self.P < math.e**(-self.lamb):\n",
    "\t\t\t\treturn n\n",
    "\t\t\tn = n+1\n",
    "\t\treturn -1\n",
    "\n",
    "\tdef mean(self):\n",
    "\t\treturn self.lamb\n",
    "\n",
    "\tdef median(self):\n",
    "\t\treturn math.floor(self.lamb + 1/3 - 0.02/self.lamb)\n",
    "\n",
    "\tdef mode(self):\n",
    "\t\treturn [math.ceil(self.lamb)-1, math.floor(self.lamb)]\n",
    "\n",
    "\tdef variance(self):\n",
    "\t\treturn self.lamb\n",
    "\n",
    "\tdef skewness(self):\n",
    "\t\treturn self.lamb**(-1/2)\n",
    "\n",
    "\tdef kurtosis(self):\n",
    "\t\treturn 3 + 1/self.lamb\n",
    "\t# Falta os Quantiles\n",
    "  "
   ]
  },
  {
   "source": [
    "# Continuous Distribuitions"
   ],
   "cell_type": "markdown",
   "metadata": {}
  },
  {
   "source": [
    "## Continuous Uniform Distribuition"
   ],
   "cell_type": "markdown",
   "metadata": {}
  },
  {
   "source": [
    "## Gamma Function"
   ],
   "cell_type": "markdown",
   "metadata": {}
  },
  {
   "cell_type": "code",
   "execution_count": 90,
   "metadata": {},
   "outputs": [],
   "source": [
    "def Gamma(n):\n",
    "    r = 1\n",
    "    for i in range(2, n):\n",
    "        r *= i\n",
    "    return r"
   ]
  },
  {
   "source": [
    "## Weibull Distribution"
   ],
   "cell_type": "markdown",
   "metadata": {}
  },
  {
   "cell_type": "code",
   "execution_count": 5,
   "metadata": {},
   "outputs": [],
   "source": [
    "class Weibull:\n",
    "    def __init__(self, k=1, lamb=1):\n",
    "        self.k = k, self.lamb = lamb\n",
    "\n",
    "    def random(self, k=1, lamb=1):\n",
    "        u01 = Uniform01()\n",
    "        return self.lamb * ((-math.log(u01.MCL))**(1/self.k))\n",
    "\n",
    "    def mean(self):\n",
    "        return self.lamb * Gamma(1 + 1/self.k)\n",
    "\n",
    "    def median(self):\n",
    "        return self.lamb * ((math.log(2))**(1/self.k))\n",
    "\n",
    "    def mode(self):\n",
    "        if k > 1:\n",
    "            return self.lamb * (((self.k - 1)/self.k)**(1/self.k))\n",
    "        return 0\n",
    "    \n",
    "    def variance(self):\n",
    "        return (self.lamb**2) * math.fabs(Gamma(1 + (2/self.k)) - (Gamma(1 + (1     /self.k)) ** 2))\n",
    "\n",
    "    def skewness(self):\n",
    "        sd = math.sqrt(self.variance)\n",
    "\n",
    "        return (Gamma((1 + 3/self.k)) * (self.lamb ** 3) - 3 * self.mean() * (self.variance) - (self.mean() ** 3)) / sd ** 3\n",
    "\n",
    "    # def kurtosis(self):"
   ]
  },
  {
   "source": [
    "## Describe Function"
   ],
   "cell_type": "markdown",
   "metadata": {}
  },
  {
   "cell_type": "code",
   "execution_count": 2,
   "metadata": {},
   "outputs": [],
   "source": [
    "def describe(self, sample):\n",
    "    n, _, mean_obs, variance_obs, skewness_obs, kurtosis_obs = stats.describe(sample)\n",
    "    median_obs = np.median(sample)\n",
    "    mode_obs, weights = stats.mode(sample)\n",
    "    mode_obs = np.average(mode_obs, weights=weights)\n",
    "    std_obs = np.sqrt(variance_obs)\n",
    "    q1_obs = np.quantile(sample, 0.25)\n",
    "    q3_obs = np.quantile(sample, 0.75)\n",
    "\n",
    "    return [n, mean_obs, mode_obs, median_obs, variance_obs, std_obs, kurtosis_obs, skewness_obs, q1_obs, q3_obs]"
   ]
  },
  {
   "cell_type": "markdown",
   "metadata": {},
   "source": [
    "## Plot charts"
   ]
  },
  {
   "cell_type": "code",
   "execution_count": 3,
   "metadata": {},
   "outputs": [],
   "source": [
    "# def generateInPlot(n_sample, sample_size):\n",
    "# \tfor sample_i in range(n_sample):\n",
    "# \t\tresult = []\n",
    "# \t\tfor i in range(1, sample_size):\n",
    "# \t\t\tresult.append(Poisson(lamb=p_lamb))\n",
    "\n",
    "# \t\t# counter occurrences\n",
    "# \t\tresultCount = Counter(sorted(result))\n",
    "# \t\t# print(resultCount)\n",
    "# \t\tx = []\n",
    "# \t\ty = []\n",
    "# \t\tfor i in resultCount:\n",
    "# \t\t\tx.append(i)\n",
    "# \t\t\ty.append(resultCount[i])\n",
    "# \t\t\t# print(i, \"->\", resultCount[i])\n",
    "\n",
    "# \t\t# plot chart\n",
    "# \t\timport matplotlib.pyplot as plt\n",
    "# \t\tplt.plot(x, y, marker='o')\n",
    "# \t\tplt.title('sample')\n",
    "# \t\tplt.xlabel('Values x')\n",
    "# \t\tplt.ylabel('Occurrences')\n",
    "# \t\tplt.show()\n",
    "\n",
    "# generateInPlot(1, 1000)\n",
    "# generateInPlot(10, 10000)\n",
    "# generateInPlot(10, 100000)"
   ]
  },
  {
   "cell_type": "code",
   "execution_count": 4,
   "metadata": {},
   "outputs": [],
   "source": [
    "# import plotly.graph_objects as go\n",
    "\n",
    "# fig = go.Figure(data=[go.Table(header=dict(values=['A Scores', 'B Scores']),\n",
    "#                  cells=dict(values=[[100, 90, 80, 90], [95, 85, 75, 95]]))\n",
    "#                      ])\n",
    "# fig.show()"
   ]
  },
  {
   "cell_type": "code",
   "execution_count": null,
   "metadata": {},
   "outputs": [],
   "source": []
  }
 ],
 "metadata": {
  "kernelspec": {
   "name": "python3",
   "display_name": "Python 3.8.7 64-bit",
   "metadata": {
    "interpreter": {
     "hash": "848b40f5869f6e1926349a26361cad7b69a9054aba5a27b0657fc6b01a711c9c"
    }
   }
  },
  "language_info": {
   "codemirror_mode": {
    "name": "ipython",
    "version": 3
   },
   "file_extension": ".py",
   "mimetype": "text/x-python",
   "name": "python",
   "nbconvert_exporter": "python",
   "pygments_lexer": "ipython3",
   "version": "3.8.7-final"
  }
 },
 "nbformat": 4,
 "nbformat_minor": 4
}